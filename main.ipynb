{
 "cells": [
  {
   "cell_type": "code",
   "execution_count": 1,
   "id": "742aa51c-278a-4c6f-97f1-03872be1740a",
   "metadata": {},
   "outputs": [
    {
     "name": "stdout",
     "output_type": "stream",
     "text": [
      "'known_faces' directory already exists.\n"
     ]
    }
   ],
   "source": [
    "import os\n",
    "\n",
    "# Create known_faces directory if it doesn't exist\n",
    "known_faces_dir = \"known_faces\"\n",
    "if not os.path.exists(known_faces_dir):\n",
    "    os.makedirs(known_faces_dir)\n",
    "    print(f\"Created '{known_faces_dir}' directory. Please add images of known people there.\")\n",
    "else:\n",
    "    print(f\"'{known_faces_dir}' directory already exists.\")"
   ]
  },
  {
   "cell_type": "code",
   "execution_count": 1,
   "id": "44f8a479-79af-4eed-abdc-1c3e5126e2a3",
   "metadata": {},
   "outputs": [
    {
     "data": {
      "text/plain": [
       "'C:\\\\Users\\\\daara\\\\face_recognition'"
      ]
     },
     "execution_count": 1,
     "metadata": {},
     "output_type": "execute_result"
    }
   ],
   "source": [
    "import os\n",
    "os.getcwd()\n"
   ]
  },
  {
   "cell_type": "code",
   "execution_count": 2,
   "id": "acb9f60f-5bfa-4b99-8ee8-a146696308c9",
   "metadata": {
    "scrolled": true
   },
   "outputs": [
    {
     "name": "stdout",
     "output_type": "stream",
     "text": [
      "Requirement already satisfied: opencv-python in c:\\users\\daara\\appdata\\local\\programs\\python\\python310\\lib\\site-packages (4.11.0.86)\n",
      "Requirement already satisfied: face_recognition in c:\\users\\daara\\appdata\\local\\programs\\python\\python310\\lib\\site-packages (1.3.0)\n",
      "Requirement already satisfied: numpy in c:\\users\\daara\\appdata\\local\\programs\\python\\python310\\lib\\site-packages (2.2.6)\n",
      "Requirement already satisfied: matplotlib in c:\\users\\daara\\appdata\\local\\programs\\python\\python310\\lib\\site-packages (3.10.3)\n",
      "Requirement already satisfied: face-recognition-models>=0.3.0 in c:\\users\\daara\\appdata\\local\\programs\\python\\python310\\lib\\site-packages (from face_recognition) (0.3.0)\n",
      "Requirement already satisfied: dlib>=19.7 in c:\\users\\daara\\appdata\\local\\programs\\python\\python310\\lib\\site-packages (from face_recognition) (20.0.0)\n",
      "Requirement already satisfied: Click>=6.0 in c:\\users\\daara\\appdata\\local\\programs\\python\\python310\\lib\\site-packages (from face_recognition) (8.2.1)\n",
      "Requirement already satisfied: Pillow in c:\\users\\daara\\appdata\\local\\programs\\python\\python310\\lib\\site-packages (from face_recognition) (11.2.1)\n",
      "Requirement already satisfied: contourpy>=1.0.1 in c:\\users\\daara\\appdata\\local\\programs\\python\\python310\\lib\\site-packages (from matplotlib) (1.3.2)\n",
      "Requirement already satisfied: cycler>=0.10 in c:\\users\\daara\\appdata\\local\\programs\\python\\python310\\lib\\site-packages (from matplotlib) (0.12.1)\n",
      "Requirement already satisfied: pyparsing>=2.3.1 in c:\\users\\daara\\appdata\\local\\programs\\python\\python310\\lib\\site-packages (from matplotlib) (3.2.3)\n",
      "Requirement already satisfied: packaging>=20.0 in c:\\users\\daara\\appdata\\local\\programs\\python\\python310\\lib\\site-packages (from matplotlib) (25.0)\n",
      "Requirement already satisfied: python-dateutil>=2.7 in c:\\users\\daara\\appdata\\local\\programs\\python\\python310\\lib\\site-packages (from matplotlib) (2.9.0.post0)\n",
      "Requirement already satisfied: fonttools>=4.22.0 in c:\\users\\daara\\appdata\\local\\programs\\python\\python310\\lib\\site-packages (from matplotlib) (4.58.4)\n",
      "Requirement already satisfied: kiwisolver>=1.3.1 in c:\\users\\daara\\appdata\\local\\programs\\python\\python310\\lib\\site-packages (from matplotlib) (1.4.8)\n",
      "Requirement already satisfied: colorama in c:\\users\\daara\\appdata\\local\\programs\\python\\python310\\lib\\site-packages (from Click>=6.0->face_recognition) (0.4.6)\n",
      "Requirement already satisfied: six>=1.5 in c:\\users\\daara\\appdata\\local\\programs\\python\\python310\\lib\\site-packages (from python-dateutil>=2.7->matplotlib) (1.17.0)\n"
     ]
    },
    {
     "name": "stderr",
     "output_type": "stream",
     "text": [
      "\n",
      "[notice] A new release of pip available: 22.3.1 -> 25.1.1\n",
      "[notice] To update, run: python.exe -m pip install --upgrade pip\n"
     ]
    }
   ],
   "source": [
    "!pip install opencv-python face_recognition numpy matplotlib"
   ]
  },
  {
   "cell_type": "code",
   "execution_count": 3,
   "id": "58d542c7-ed9c-40a2-85a2-b94ad3688fe4",
   "metadata": {},
   "outputs": [
    {
     "name": "stdout",
     "output_type": "stream",
     "text": [
      "'known_faces' folder already exists\n",
      "\n",
      "Files in known_faces:\n",
      "- .ipynb_checkpoints\n",
      "- mesi.webp\n",
      "- myyface.jpg\n",
      "- ronaldo.jpg\n"
     ]
    }
   ],
   "source": [
    "import os\n",
    "\n",
    "# Verify folder structure\n",
    "if not os.path.exists('known_faces'):\n",
    "    os.makedirs('known_faces')\n",
    "    print(\"Created 'known_faces' folder\")\n",
    "else:\n",
    "    print(\"'known_faces' folder already exists\")\n",
    "\n",
    "# List current files in known_faces\n",
    "print(\"\\nFiles in known_faces:\")\n",
    "for file in os.listdir('known_faces'):\n",
    "    print(f\"- {file}\")"
   ]
  },
  {
   "cell_type": "code",
   "execution_count": 4,
   "id": "ec053eaf-c5b3-4223-9f62-d512e2f438f3",
   "metadata": {},
   "outputs": [
    {
     "name": "stdout",
     "output_type": "stream",
     "text": [
      "Loaded: mesi\n",
      "Loaded: myyface\n",
      "Loaded: ronaldo\n",
      "\n",
      "Ready for recognition!\n",
      "Loaded 3 faces: mesi, myyface, ronaldo\n"
     ]
    }
   ],
   "source": [
    "import face_recognition\n",
    "import numpy as np\n",
    "\n",
    "known_face_encodings = []\n",
    "known_face_names = []\n",
    "\n",
    "for filename in os.listdir('known_faces'):\n",
    "    if filename.lower().endswith(('.jpg', '.jpeg', '.png', '.webp')):\n",
    "        image_path = os.path.join('known_faces', filename)\n",
    "        image = face_recognition.load_image_file(image_path)\n",
    "        \n",
    "        encodings = face_recognition.face_encodings(image)\n",
    "        if encodings:  # If at least one face found\n",
    "            known_face_encodings.append(encodings[0])\n",
    "            name = os.path.splitext(filename)[0]\n",
    "            known_face_names.append(name)\n",
    "            print(f\"Loaded: {name}\")\n",
    "        else:\n",
    "            print(f\"No faces detected in {filename}\")\n",
    "\n",
    "print(\"\\nReady for recognition!\")\n",
    "print(f\"Loaded {len(known_face_names)} faces: {', '.join(known_face_names)}\")"
   ]
  },
  {
   "cell_type": "code",
   "execution_count": null,
   "id": "3b1d4fc2-e7c1-4776-8018-5e8f3be07778",
   "metadata": {},
   "outputs": [
    {
     "data": {
      "image/png": "[encoded data removed]",
      "text/plain": [
       "<Figure size 1000x600 with 1 Axes>"
      ]
     },
     "metadata": {},
     "output_type": "display_data"
    }
   ],
   "source": [
    "# First install the required package if you haven't already\n",
    "!pip install face_recognition opencv-python numpy matplotlib\n",
    "\n",
    "# Now run the corrected code\n",
    "import cv2\n",
    "import face_recognition\n",
    "import numpy as np\n",
    "from IPython.display import display, clear_output\n",
    "import matplotlib.pyplot as plt\n",
    "%matplotlib inline\n",
    "\n",
    "# Initialize known faces (you need to load these first)\n",
    "known_face_encodings = []\n",
    "known_face_names = []\n",
    "\n",
    "def load_known_faces():\n",
    "    \"\"\"Load known faces from the known_faces directory\"\"\"\n",
    "    global known_face_encodings, known_face_names\n",
    "    \n",
    "    for filename in os.listdir('known_faces'):\n",
    "        if filename.lower().endswith(('.jpg', '.jpeg', '.png', '.webp')):\n",
    "            image = face_recognition.load_image_file(f'known_faces/{filename}')\n",
    "            encodings = face_recognition.face_encodings(image)\n",
    "            if encodings:\n",
    "                known_face_encodings.append(encodings[0])\n",
    "                known_face_names.append(os.path.splitext(filename)[0])\n",
    "    print(f\"Loaded {len(known_face_names)} known faces\")\n",
    "\n",
    "# Load known faces before recognition\n",
    "load_known_faces()\n",
    "\n",
    "def recognize_faces():\n",
    "    video_capture = cv2.VideoCapture(0)\n",
    "    plt.figure(figsize=(10,6))\n",
    "    \n",
    "    try:\n",
    "        while True:\n",
    "            ret, frame = video_capture.read()\n",
    "            if not ret:\n",
    "                break\n",
    "                \n",
    "            # Convert to RGB and resize for faster processing\n",
    "            rgb_frame = cv2.cvtColor(frame, cv2.COLOR_BGR2RGB)\n",
    "            small_frame = cv2.resize(rgb_frame, (0, 0), fx=0.25, fy=0.25)\n",
    "            \n",
    "            # Find faces\n",
    "            face_locations = face_recognition.face_locations(small_frame)\n",
    "            face_encodings = face_recognition.face_encodings(small_frame, face_locations)\n",
    "            \n",
    "            face_names = []\n",
    "            for face_encoding in face_encodings:\n",
    "                matches = face_recognition.compare_faces(known_face_encodings, face_encoding)\n",
    "                name = \"Unknown\"\n",
    "                \n",
    "                if True in matches:\n",
    "                    face_distances = face_recognition.face_distance(known_face_encodings, face_encoding)\n",
    "                    best_match_index = np.argmin(face_distances)\n",
    "                    name = known_face_names[best_match_index]\n",
    "                \n",
    "                face_names.append(name)\n",
    "            \n",
    "            # Display results\n",
    "            for (top, right, bottom, left), name in zip(face_locations, face_names):\n",
    "                # Scale back up face locations\n",
    "                top *= 4; right *= 4; bottom *= 4; left *= 4\n",
    "                \n",
    "                # Draw rectangle and label\n",
    "                cv2.rectangle(rgb_frame, (left, top), (right, bottom), (0, 255, 0), 2)\n",
    "                cv2.putText(rgb_frame, name, (left + 6, bottom - 6), \n",
    "                          cv2.FONT_HERSHEY_DUPLEX, 0.8, (255, 255, 255), 1)\n",
    "            \n",
    "            # Show in notebook\n",
    "            plt.imshow(rgb_frame)\n",
    "            plt.axis('off')\n",
    "            display(plt.gcf())\n",
    "            clear_output(wait=True)\n",
    "            \n",
    "            if cv2.waitKey(1) & 0xFF == ord('q'):\n",
    "                break\n",
    "                \n",
    "    finally:\n",
    "        video_capture.release()\n",
    "        plt.close()\n",
    "\n",
    "# Start recognition\n",
    "print(\"Starting face recognition... Press 'q' to quit when using external window\")\n",
    "recognize_faces()"
   ]
  },
  {
   "cell_type": "code",
   "execution_count": 5,
   "id": "8535733d-95ed-46e4-a633-611fc7574b23",
   "metadata": {},
   "outputs": [
    {
     "ename": "ModuleNotFoundError",
     "evalue": "No module named 'scipy'",
     "output_type": "error",
     "traceback": [
      "\u001b[1;31m---------------------------------------------------------------------------\u001b[0m",
      "\u001b[1;31mModuleNotFoundError\u001b[0m                       Traceback (most recent call last)",
      "Cell \u001b[1;32mIn[5], line 2\u001b[0m\n\u001b[0;32m      1\u001b[0m \u001b[38;5;28;01mimport\u001b[39;00m\u001b[38;5;250m \u001b[39m\u001b[38;5;21;01mnumpy\u001b[39;00m\u001b[38;5;250m \u001b[39m\u001b[38;5;28;01mas\u001b[39;00m\u001b[38;5;250m \u001b[39m\u001b[38;5;21;01mnp\u001b[39;00m\n\u001b[1;32m----> 2\u001b[0m \u001b[38;5;28;01mfrom\u001b[39;00m\u001b[38;5;250m \u001b[39m\u001b[38;5;21;01mscipy\u001b[39;00m\u001b[38;5;21;01m.\u001b[39;00m\u001b[38;5;21;01mspatial\u001b[39;00m\u001b[38;5;250m \u001b[39m\u001b[38;5;28;01mimport\u001b[39;00m distance\n\u001b[0;32m      4\u001b[0m \u001b[38;5;66;03m# Simulated encoding vectors (replace with actual encodings from face_recognition)\u001b[39;00m\n\u001b[0;32m      5\u001b[0m person1_encoding \u001b[38;5;241m=\u001b[39m np\u001b[38;5;241m.\u001b[39mrandom\u001b[38;5;241m.\u001b[39mrand(\u001b[38;5;241m128\u001b[39m)\n",
      "\u001b[1;31mModuleNotFoundError\u001b[0m: No module named 'scipy'"
     ]
    }
   ],
   "source": [
    "import numpy as np\n",
    "from scipy.spatial import distance\n",
    "\n",
    "# Simulated encoding vectors (replace with actual encodings from face_recognition)\n",
    "person1_encoding = np.random.rand(128)\n",
    "person2_encoding = np.random.rand(128)\n",
    "\n",
    "# Calculate Euclidean Distance\n",
    "euclidean_dist = np.linalg.norm(person1_encoding - person2_encoding)\n",
    "\n",
    "# Or using scipy (same result)\n",
    "euclidean_dist_scipy = distance.euclidean(person1_encoding, person2_encoding)\n",
    "\n",
    "# Output\n",
    "print(\"Euclidean Distance between the two face encodings:\")\n",
    "print(f\"Using NumPy: {euclidean_dist:.4f}\")\n",
    "print(f\"Using SciPy : {euclidean_dist_scipy:.4f}\")\n",
    "\n",
    "# Decision\n",
    "threshold = 0.6\n",
    "if euclidean_dist < threshold:\n",
    "    print(\"Result: SAME person ✅\")\n",
    "else:\n",
    "    print(\"Result: DIFFERENT person ❌\")\n"
   ]
  },
  {
   "cell_type": "code",
   "execution_count": null,
   "id": "99b9a006-7cce-45ec-a14c-aed15398e0ac",
   "metadata": {},
   "outputs": [],
   "source": []
  }
 ],
 "metadata": {
  "kernelspec": {
   "display_name": "Python 3 (ipykernel)",
   "language": "python",
   "name": "python3"
  },
  "language_info": {
   "codemirror_mode": {
    "name": "ipython",
    "version": 3
   },
   "file_extension": ".py",
   "mimetype": "text/x-python",
   "name": "python",
   "nbconvert_exporter": "python",
   "pygments_lexer": "ipython3",
   "version": "3.10.9"
  }
 },
 "nbformat": 4,
 "nbformat_minor": 5
}
